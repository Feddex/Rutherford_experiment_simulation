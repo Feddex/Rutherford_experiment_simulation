{
 "cells": [
  {
   "cell_type": "code",
   "execution_count": 9,
   "metadata": {},
   "outputs": [],
   "source": [
    "import numpy as np \n",
    "import sympy as smp "
   ]
  },
  {
   "cell_type": "code",
   "execution_count": 10,
   "metadata": {},
   "outputs": [],
   "source": [
    "#let's define the variables \n",
    "m, v, r, q1, q2, k = smp.symbols('m, v, r, q_1, q_2, k')"
   ]
  },
  {
   "cell_type": "code",
   "execution_count": 11,
   "metadata": {},
   "outputs": [],
   "source": [
    "#let's define the equation \n",
    "eq = smp.Eq(0.5*m*v*v, (k*q1*q2)/(r))"
   ]
  },
  {
   "cell_type": "code",
   "execution_count": 12,
   "metadata": {},
   "outputs": [
    {
     "data": {
      "text/plain": [
       "[2.0*k*q_1*q_2/(m*v**2)]"
      ]
     },
     "execution_count": 12,
     "metadata": {},
     "output_type": "execute_result"
    }
   ],
   "source": [
    "#let's find the radius \n",
    "r_sol = smp.solve(eq, r)\n",
    "r_sol"
   ]
  },
  {
   "cell_type": "code",
   "execution_count": 13,
   "metadata": {},
   "outputs": [],
   "source": [
    "charge_unit = 1.6E-19\n",
    "m_alpha = 6.64E-27\n",
    "v_value = 1.57E7\n",
    "q1_value  = 2*charge_unit\n",
    "q2_value = 79*charge_unit\n",
    "s = 8.9875517873681764E9"
   ]
  },
  {
   "cell_type": "code",
   "execution_count": 14,
   "metadata": {},
   "outputs": [
    {
     "data": {
      "text/plain": [
       "[4.44223029521797e-14]"
      ]
     },
     "execution_count": 14,
     "metadata": {},
     "output_type": "execute_result"
    }
   ],
   "source": [
    "sub = {m: m_alpha, v: v_value, q1: q1_value, q2: q2_value, k:s}\n",
    "r_value = [sol.evalf(subs=sub) for sol in r_sol]\n",
    "r_value"
   ]
  },
  {
   "cell_type": "code",
   "execution_count": 15,
   "metadata": {},
   "outputs": [
    {
     "name": "stdout",
     "output_type": "stream",
     "text": [
      "Velocity for the given values: [4.44223029521797e-14]\n"
     ]
    }
   ],
   "source": [
    "print(\"Velocity for the given values:\", r_value)"
   ]
  },
  {
   "cell_type": "code",
   "execution_count": 16,
   "metadata": {},
   "outputs": [],
   "source": [
    "#so this is the value of x at which the alpha particle should stop if i louch it sraightly towards the gold atom nucleus "
   ]
  }
 ],
 "metadata": {
  "kernelspec": {
   "display_name": "Python 3",
   "language": "python",
   "name": "python3"
  },
  "language_info": {
   "codemirror_mode": {
    "name": "ipython",
    "version": 3
   },
   "file_extension": ".py",
   "mimetype": "text/x-python",
   "name": "python",
   "nbconvert_exporter": "python",
   "pygments_lexer": "ipython3",
   "version": "3.10.12"
  }
 },
 "nbformat": 4,
 "nbformat_minor": 2
}
