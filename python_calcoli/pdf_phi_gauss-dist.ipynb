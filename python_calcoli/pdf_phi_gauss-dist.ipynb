{
 "cells": [
  {
   "cell_type": "code",
   "execution_count": 1,
   "metadata": {},
   "outputs": [],
   "source": [
    "import numpy as np\n",
    "import sympy as smp\n",
    "from scipy.integrate import quad\n",
    "from sympy.utilities.lambdify import lambdify\n",
    "import matplotlib.pyplot as plt\n"
   ]
  },
  {
   "cell_type": "code",
   "execution_count": 2,
   "metadata": {},
   "outputs": [],
   "source": [
    "#let's define the variables\n",
    "phi, b, n = smp.symbols('\\phi, b, n')\n"
   ]
  },
  {
   "cell_type": "code",
   "execution_count": 3,
   "metadata": {},
   "outputs": [
    {
     "data": {
      "text/latex": [
       "$\\displaystyle n \\cot{\\left(\\frac{\\phi}{2} \\right)}$"
      ],
      "text/plain": [
       "n*cot(\\phi/2)"
      ]
     },
     "execution_count": 3,
     "metadata": {},
     "output_type": "execute_result"
    }
   ],
   "source": [
    "#let's define the function\n",
    "b_expression = n*smp.cot(phi/2)\n",
    "b_expression"
   ]
  },
  {
   "cell_type": "code",
   "execution_count": 4,
   "metadata": {},
   "outputs": [],
   "source": [
    "#let's defnine the eqation \n",
    "eq = smp.Eq(b, b_expression)"
   ]
  },
  {
   "cell_type": "code",
   "execution_count": 5,
   "metadata": {},
   "outputs": [
    {
     "data": {
      "text/plain": [
       "[2*acot(b/n)]"
      ]
     },
     "execution_count": 5,
     "metadata": {},
     "output_type": "execute_result"
    }
   ],
   "source": [
    "#let's invert the function, let's express phi with respect to b \n",
    "phi_expression = smp.solve(eq, phi)\n",
    "phi_expression "
   ]
  },
  {
   "cell_type": "code",
   "execution_count": 6,
   "metadata": {},
   "outputs": [
    {
     "data": {
      "text/latex": [
       "$\\displaystyle n \\left(- \\frac{\\cot^{2}{\\left(\\frac{\\phi}{2} \\right)}}{2} - \\frac{1}{2}\\right)$"
      ],
      "text/plain": [
       "n*(-cot(\\phi/2)**2/2 - 1/2)"
      ]
     },
     "execution_count": 6,
     "metadata": {},
     "output_type": "execute_result"
    }
   ],
   "source": [
    "#let's define the derivative of b with respect to phi\n",
    "db_dphi = smp.diff(b_expression, phi)\n",
    "db_dphi"
   ]
  },
  {
   "cell_type": "code",
   "execution_count": 7,
   "metadata": {},
   "outputs": [
    {
     "data": {
      "text/latex": [
       "$\\displaystyle \\frac{\\sqrt{2} e^{- \\frac{n^{2} \\cot^{2}{\\left(\\frac{\\phi}{2} \\right)}}{2 \\sigma^{2}}}}{2 \\sqrt{\\pi} \\sqrt{\\sigma^{2}}}$"
      ],
      "text/plain": [
       "sqrt(2)*exp(-n**2*cot(\\phi/2)**2/(2*\\sigma**2))/(2*sqrt(pi)*sqrt(\\sigma**2))"
      ]
     },
     "execution_count": 7,
     "metadata": {},
     "output_type": "execute_result"
    }
   ],
   "source": [
    "#now let's define the pdf that b follows \n",
    "# b follows a normal distribution, with mean 0 and standard deviation sigma\n",
    "\n",
    "pdf_b, sigma = smp.symbols('pdf(b), \\sigma ')\n",
    "\n",
    "#now lets define the expression of the pdf of b \n",
    "pdf_b_expression = (1/smp.sqrt(2*smp.pi*sigma**2))*smp.exp(-b_expression**2/(2*sigma**2))\n",
    "pdf_b_expression"
   ]
  },
  {
   "cell_type": "code",
   "execution_count": 11,
   "metadata": {},
   "outputs": [
    {
     "data": {
      "text/latex": [
       "$\\displaystyle \\frac{\\sqrt{2} e^{- \\frac{n^{2} \\cot^{2}{\\left(\\frac{\\phi}{2} \\right)}}{2 \\sigma^{2}}} \\left|{\\frac{n}{\\cos{\\left(\\phi \\right)} - 1}}\\right|}{2 \\sqrt{\\pi} \\sqrt{\\sigma^{2}}}$"
      ],
      "text/plain": [
       "sqrt(2)*exp(-n**2*cot(\\phi/2)**2/(2*\\sigma**2))*Abs(n/(cos(\\phi) - 1))/(2*sqrt(pi)*sqrt(\\sigma**2))"
      ]
     },
     "execution_count": 11,
     "metadata": {},
     "output_type": "execute_result"
    }
   ],
   "source": [
    "pdf_phi = pdf_b_expression*smp.Abs(db_dphi)\n",
    "pdf_phi.simplify()\n"
   ]
  },
  {
   "cell_type": "code",
   "execution_count": 9,
   "metadata": {},
   "outputs": [
    {
     "data": {
      "image/png": "[encoded data removed]",
      "text/plain": [
       "<Figure size 640x480 with 1 Axes>"
      ]
     },
     "metadata": {},
     "output_type": "display_data"
    }
   ],
   "source": [
    "#lets graph the function first \n",
    "#we have to convert it into a np function \n",
    "# Convert the expression to a NumPy function\n",
    "pdf_phi_func = smp.lambdify((phi, n, sigma), pdf_phi)\n",
    "\n",
    "# Set the parameters\n",
    "n = 2.25E-14  # Example value for a\n",
    "sigma = 1.44E-10  # Example value for sigma\n",
    "\n",
    "# Generate data points to graph\n",
    "phi_values = np.linspace(0 - 0.2, 2*np.pi + 0.2, 10000)\n",
    "pdf_phi_values = pdf_phi_func(phi_values, n, sigma)\n",
    "#cot_f= np.cos(phi_values)/np.sin(phi_values)\n",
    "\n",
    "# Plot the data\n",
    "plt.plot(phi_values, pdf_phi_values)\n",
    "plt.xlabel('phi')\n",
    "plt.ylabel('pdf_phi')\n",
    "plt.title('PDF of phi')\n",
    "plt.grid(True)\n",
    "plt.show()"
   ]
  },
  {
   "cell_type": "code",
   "execution_count": 10,
   "metadata": {},
   "outputs": [
    {
     "name": "stdout",
     "output_type": "stream",
     "text": [
      "I: inf, error: nan\n"
     ]
    },
    {
     "name": "stderr",
     "output_type": "stream",
     "text": [
      "<lambdifygenerated-1>:2: RuntimeWarning: overflow encountered in exp\n",
      "  return (1/2)*sqrt(2)*exp(-1/2*n**2*tan((1/2)*Dummy_39)**(-1.0)**2/Dummy_38**2)*abs(n*((1/2)*tan((1/2)*Dummy_39)**(-1.0)**2 + 1/2))/(sqrt(pi)*sqrt(Dummy_38**2))\n",
      "/tmp/ipykernel_3768/2394809059.py:3: IntegrationWarning: The maximum number of subdivisions (50) has been achieved.\n",
      "  If increasing the limit yields no improvement it is advised to analyze \n",
      "  the integrand in order to determine the difficulties.  If the position of a \n",
      "  local difficulty can be determined (singularity, discontinuity) one will \n",
      "  probably gain from splitting up the interval and calling the integrator \n",
      "  on the subranges.  Perhaps a special-purpose integrator should be used.\n",
      "  I, error = quad(pdf_phi_func, 0, 2 * np.pi, args=(n, sigma))\n"
     ]
    }
   ],
   "source": [
    "#let's find the normalization constant within 0 and 2 pi\n",
    "# Perform the integration over the interval [0, 2π]\n",
    "I, error = quad(pdf_phi_func, 0, 2 * np.pi, args=(n, sigma))\n",
    "print(f\"I: {I}, error: {error}\")"
   ]
  },
  {
   "cell_type": "code",
   "execution_count": null,
   "metadata": {},
   "outputs": [],
   "source": []
  },
  {
   "cell_type": "code",
   "execution_count": null,
   "metadata": {},
   "outputs": [],
   "source": []
  }
 ],
 "metadata": {
  "kernelspec": {
   "display_name": "Python 3",
   "language": "python",
   "name": "python3"
  },
  "language_info": {
   "codemirror_mode": {
    "name": "ipython",
    "version": 3
   },
   "file_extension": ".py",
   "mimetype": "text/x-python",
   "name": "python",
   "nbconvert_exporter": "python",
   "pygments_lexer": "ipython3",
   "version": "3.10.12"
  }
 },
 "nbformat": 4,
 "nbformat_minor": 2
}
