{
 "cells": [
  {
   "cell_type": "code",
   "execution_count": 108,
   "metadata": {},
   "outputs": [],
   "source": [
    "# here we want to define the extremes of the range of definition of the pdf of phi given the extremes of b \n",
    "# which is uniformallly distributed\n",
    "\n",
    "import numpy as np\n",
    "import sympy as smp \n",
    "from sympy.utilities.lambdify import lambdify\n",
    "import matplotlib.pyplot as plt"
   ]
  },
  {
   "cell_type": "code",
   "execution_count": 109,
   "metadata": {},
   "outputs": [],
   "source": [
    "#let's define the symbols, b is the variable distibuted uniformily bewteen b_inf and b_sup\n",
    "b, b_inf, b_sup, phi, n = smp.symbols('b, b_inf, b_sup, \\phi, n')"
   ]
  },
  {
   "cell_type": "code",
   "execution_count": 110,
   "metadata": {},
   "outputs": [],
   "source": [
    "#let's define the equations to find the extremes of phi givern the extremes of b\n",
    "low_extreme = smp.Eq(b_inf, n*(smp.cos(phi/2)/smp.sin(phi/2)))\n",
    "up_extreme = smp.Eq(b_sup, n*smp.cot(phi/2))"
   ]
  },
  {
   "cell_type": "code",
   "execution_count": 111,
   "metadata": {},
   "outputs": [
    {
     "data": {
      "text/plain": [
       "[2*acot(b_sup/n)]"
      ]
     },
     "execution_count": 111,
     "metadata": {},
     "output_type": "execute_result"
    }
   ],
   "source": [
    "#let's find the expression for the phi extremes: phi will be distributed in a certain manner between this extremes\n",
    "phi_inf = smp.solve(low_extreme, phi)\n",
    "phi_sup = smp.solve(up_extreme, phi)\n",
    "phi_sup"
   ]
  },
  {
   "cell_type": "code",
   "execution_count": 112,
   "metadata": {},
   "outputs": [],
   "source": [
    "#let's give some physical values to the parameters \n",
    "n_value = 2.25E-14\n",
    "b_inf_value = -1.44E-10\n",
    "b_sup_value = 1.44E-10\n",
    "\n",
    "subs_inf = { n: n_value, b_inf: b_inf_value}\n",
    "subs_sup = { n: n_value, b_sup: b_sup_value}"
   ]
  },
  {
   "cell_type": "code",
   "execution_count": 113,
   "metadata": {},
   "outputs": [
    {
     "name": "stdout",
     "output_type": "stream",
     "text": [
      "[6.28287280718213, -0.000312499997456869]\n",
      "[0.000312499997456869]\n"
     ]
    }
   ],
   "source": [
    "phi_inf_value = [sol.evalf(subs=subs_inf) for sol in phi_inf]\n",
    "phi_sup_value = [sol.evalf(subs=subs_sup) for sol in phi_sup]\n",
    "\n",
    "print(phi_inf_value)\n",
    "print(phi_sup_value)"
   ]
  },
  {
   "cell_type": "code",
   "execution_count": 114,
   "metadata": {},
   "outputs": [],
   "source": [
    "# by looking at the definition of cotangent, we notice that:\n",
    "# if b_inf = -1.44E-10 then phi_inf = 6.28287280718213\n",
    "# if b_sup = 1.44E-10 then phi_sup = 0.000312499997456869\n",
    "\n",
    "# so the function is slightly bounded within the range 0 2pi\n"
   ]
  },
  {
   "cell_type": "code",
   "execution_count": null,
   "metadata": {},
   "outputs": [],
   "source": []
  },
  {
   "cell_type": "code",
   "execution_count": null,
   "metadata": {},
   "outputs": [],
   "source": []
  },
  {
   "cell_type": "code",
   "execution_count": null,
   "metadata": {},
   "outputs": [],
   "source": []
  }
 ],
 "metadata": {
  "kernelspec": {
   "display_name": "Python 3",
   "language": "python",
   "name": "python3"
  },
  "language_info": {
   "codemirror_mode": {
    "name": "ipython",
    "version": 3
   },
   "file_extension": ".py",
   "mimetype": "text/x-python",
   "name": "python",
   "nbconvert_exporter": "python",
   "pygments_lexer": "ipython3",
   "version": "3.10.12"
  }
 },
 "nbformat": 4,
 "nbformat_minor": 2
}
