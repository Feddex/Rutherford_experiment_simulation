{
 "cells": [
  {
   "cell_type": "code",
   "execution_count": 1,
   "metadata": {},
   "outputs": [],
   "source": [
    "import numpy as np\n",
    "import sympy as smp "
   ]
  },
  {
   "cell_type": "markdown",
   "metadata": {},
   "source": [
    "Calculi to debug the acceleration function "
   ]
  },
  {
   "cell_type": "code",
   "execution_count": 2,
   "metadata": {},
   "outputs": [],
   "source": [
    "#variable definition \n",
    "m1, m2, q1, q2, k, r = smp.symbols('m_1, m_2, q_1, q_2, k, r')"
   ]
  },
  {
   "cell_type": "code",
   "execution_count": 3,
   "metadata": {},
   "outputs": [],
   "source": [
    "# m1 acceleration module definition \n",
    "acc_module1 = q1*q2*k/(m1*r**2) \n",
    "\n",
    "# m2 acceleration module definition \n",
    "acc_module2 = q1*q2*k/(m2*r**2)"
   ]
  },
  {
   "cell_type": "code",
   "execution_count": 4,
   "metadata": {},
   "outputs": [],
   "source": [
    "# value assigned variables\n",
    "\n",
    "unit_charge = 1.6E-19\n",
    "aplha_mass = 6.64424E-27\n",
    "gold_mass = 3.26628E-25\n",
    "\n",
    "x_pos = -4.5E-14\n",
    "y_pos = 0\n",
    "\n",
    "q1_value = 2 * unit_charge\n",
    "q2_value = 79 *unit_charge\n",
    "m1_value = aplha_mass\n",
    "m2_value = gold_mass\n",
    "r_value = smp.sqrt(x_pos**2+y_pos**2)\n",
    "k_value = 8.9875517873681764e9\n",
    "\n",
    "sub = {q1: q1_value, q2: q2_value, m1: m1_value, m2: m2_value, r: r_value, k: k_value}\n"
   ]
  },
  {
   "cell_type": "code",
   "execution_count": 5,
   "metadata": {},
   "outputs": [
    {
     "name": "stdout",
     "output_type": "stream",
     "text": [
      "2.70189283189738e+27\n",
      "2.70189283189738e+27\n"
     ]
    }
   ],
   "source": [
    "acc_module1_value = acc_module1.evalf(subs=sub) \n",
    "acc_module2_value = acc_module1.evalf(subs=sub) \n",
    "print(acc_module1_value)\n",
    "print(acc_module2_value)"
   ]
  },
  {
   "cell_type": "markdown",
   "metadata": {},
   "source": [
    "Calculi to debug the code generting the relation between the trasnverse distance b and the defection angle "
   ]
  },
  {
   "cell_type": "code",
   "execution_count": 6,
   "metadata": {},
   "outputs": [],
   "source": [
    "# variable definition\n",
    "b, phi, n = smp.symbols('b, \\phi, n')"
   ]
  },
  {
   "cell_type": "code",
   "execution_count": 7,
   "metadata": {},
   "outputs": [],
   "source": [
    "# b-phi relation definition\n",
    "eq = smp.Eq(b, n*smp.cot(phi/2))"
   ]
  },
  {
   "cell_type": "code",
   "execution_count": 8,
   "metadata": {},
   "outputs": [
    {
     "data": {
      "text/plain": [
       "[2*acot(b/n)]"
      ]
     },
     "execution_count": 8,
     "metadata": {},
     "output_type": "execute_result"
    }
   ],
   "source": [
    "#finding the expression of phi with respect to b\n",
    "phi_sol = smp.solve(eq, phi)\n",
    "phi_sol\n"
   ]
  },
  {
   "cell_type": "code",
   "execution_count": 9,
   "metadata": {},
   "outputs": [],
   "source": [
    "# value assigning \n",
    "\n",
    "n_value = 2.25E-14\n",
    "b_value = 1.44E-10\n",
    "\n",
    "sub = {b: b_value, n: n_value}\n"
   ]
  },
  {
   "cell_type": "code",
   "execution_count": 10,
   "metadata": {},
   "outputs": [
    {
     "data": {
      "text/plain": [
       "[0.000312499997456869]"
      ]
     },
     "execution_count": 10,
     "metadata": {},
     "output_type": "execute_result"
    }
   ],
   "source": [
    "phi_val = [sol.evalf(subs=sub) for sol in phi_sol]\n",
    "phi_val"
   ]
  },
  {
   "cell_type": "code",
   "execution_count": null,
   "metadata": {},
   "outputs": [],
   "source": []
  }
 ],
 "metadata": {
  "kernelspec": {
   "display_name": "Python 3",
   "language": "python",
   "name": "python3"
  },
  "language_info": {
   "codemirror_mode": {
    "name": "ipython",
    "version": 3
   },
   "file_extension": ".py",
   "mimetype": "text/x-python",
   "name": "python",
   "nbconvert_exporter": "python",
   "pygments_lexer": "ipython3",
   "version": "3.10.12"
  }
 },
 "nbformat": 4,
 "nbformat_minor": 2
}
