{
 "cells": [
  {
   "cell_type": "code",
   "execution_count": 26,
   "metadata": {},
   "outputs": [],
   "source": [
    "import numpy as np\n",
    "import sympy as smp"
   ]
  },
  {
   "cell_type": "code",
   "execution_count": 27,
   "metadata": {},
   "outputs": [
    {
     "data": {
      "text/plain": [
       "[-1.4142135623731*sqrt(-k*q_1*q_2/(m*r) + 0.5*v_0**2),\n",
       " 1.4142135623731*sqrt(-k*q_1*q_2/(m*r) + 0.5*v_0**2)]"
      ]
     },
     "execution_count": 27,
     "metadata": {},
     "output_type": "execute_result"
    }
   ],
   "source": [
    "#let's define the variables \n",
    "m, v0, v, r, q1, q2, k = smp.symbols('m, v_0, v, r, q_1, q_2, k')\n",
    "#let's define the equation \n",
    "eq = smp.Eq(0.5*m*v0*v0, (0.5*m*v*v)+(k*q1*q2)/(r))\n",
    "#let's find the velocity \n",
    "v_sol = smp.solve(eq, v)\n",
    "v_sol"
   ]
  },
  {
   "cell_type": "code",
   "execution_count": 33,
   "metadata": {},
   "outputs": [
    {
     "data": {
      "text/plain": [
       "[-1778866.96346754, 1778866.96346754]"
      ]
     },
     "execution_count": 33,
     "metadata": {},
     "output_type": "execute_result"
    }
   ],
   "source": [
    "charge_unit = 1.6E-19\n",
    "m_alpha = 6.64E-27\n",
    "v0_value = 1.57E7\n",
    "q1_value  = 2*charge_unit\n",
    "q2_value = 79*charge_unit\n",
    "\n",
    "x_pos = -4.5e-14\n",
    "y_pos = 0\n",
    "\n",
    "s = 8.9875517873681764E9 #2.108E-7\n",
    "r_value = smp.sqrt(x_pos**2+y_pos**2) # at this given distance from the gold atom nucleus, the alpha with v0=1.57E7 has a velocity of: the solution\n",
    "\n",
    "sub = {m: m_alpha, v0: v0_value, q1: q1_value, q2: q2_value, k:s, r: r_value}\n",
    "v_value = [sol.evalf(subs=sub) for sol in v_sol]\n",
    "v_value"
   ]
  },
  {
   "cell_type": "code",
   "execution_count": 29,
   "metadata": {},
   "outputs": [
    {
     "data": {
      "text/plain": [
       "[-15699997.0572564, 15699997.0572564]"
      ]
     },
     "execution_count": 29,
     "metadata": {},
     "output_type": "execute_result"
    }
   ],
   "source": [
    "charge_unit = 1.6E-19\n",
    "m_alpha = 6.64E-27\n",
    "v0_value = 1.57E7\n",
    "q1_value  = 2*charge_unit\n",
    "q2_value = 200*charge_unit\n",
    "s = 8.9875517873681764E9\n",
    "r_value = 3e-7 # at this giver distance from the gold atom nucleus, the alpha with v0=1.57E7 has a velocity of: the solution\n",
    "\n",
    "sub = {m: m_alpha, v0: v0_value, q1: q1_value, q2: q2_value, k:s, r: r_value}\n",
    "v_value = [sol.evalf(subs=sub) for sol in v_sol]\n",
    "v_value"
   ]
  },
  {
   "cell_type": "code",
   "execution_count": null,
   "metadata": {},
   "outputs": [],
   "source": []
  }
 ],
 "metadata": {
  "kernelspec": {
   "display_name": "Python 3",
   "language": "python",
   "name": "python3"
  },
  "language_info": {
   "codemirror_mode": {
    "name": "ipython",
    "version": 3
   },
   "file_extension": ".py",
   "mimetype": "text/x-python",
   "name": "python",
   "nbconvert_exporter": "python",
   "pygments_lexer": "ipython3",
   "version": "3.10.12"
  }
 },
 "nbformat": 4,
 "nbformat_minor": 2
}
