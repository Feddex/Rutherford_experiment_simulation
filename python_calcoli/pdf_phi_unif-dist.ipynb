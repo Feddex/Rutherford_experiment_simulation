{
 "cells": [
  {
   "cell_type": "code",
   "execution_count": 1,
   "metadata": {},
   "outputs": [],
   "source": [
    "import numpy as np\n",
    "import sympy as smp\n",
    "from scipy.integrate import quad\n",
    "from sympy.utilities.lambdify import lambdify\n",
    "import matplotlib.pyplot as plt\n"
   ]
  },
  {
   "cell_type": "code",
   "execution_count": 2,
   "metadata": {},
   "outputs": [],
   "source": [
    "#let's define the variables\n",
    "phi, b, n = smp.symbols('\\phi, b, n')\n"
   ]
  },
  {
   "cell_type": "code",
   "execution_count": 3,
   "metadata": {},
   "outputs": [
    {
     "data": {
      "text/latex": [
       "$\\displaystyle n \\cot{\\left(\\frac{\\phi}{2} \\right)}$"
      ],
      "text/plain": [
       "n*cot(\\phi/2)"
      ]
     },
     "execution_count": 3,
     "metadata": {},
     "output_type": "execute_result"
    }
   ],
   "source": [
    "#let's define the function\n",
    "b_expression = n*smp.cot(phi/2)\n",
    "b_expression"
   ]
  },
  {
   "cell_type": "code",
   "execution_count": 4,
   "metadata": {},
   "outputs": [],
   "source": [
    "#let's defnine the eqation \n",
    "eq = smp.Eq(b, b_expression)"
   ]
  },
  {
   "cell_type": "code",
   "execution_count": 5,
   "metadata": {},
   "outputs": [
    {
     "data": {
      "text/plain": [
       "[2*acot(b/n)]"
      ]
     },
     "execution_count": 5,
     "metadata": {},
     "output_type": "execute_result"
    }
   ],
   "source": [
    "#let's invert the function, let's express phi with respect to b \n",
    "phi_expression = smp.solve(eq, phi)\n",
    "phi_expression "
   ]
  },
  {
   "cell_type": "code",
   "execution_count": 6,
   "metadata": {},
   "outputs": [
    {
     "data": {
      "text/latex": [
       "$\\displaystyle n \\left(- \\frac{\\cot^{2}{\\left(\\frac{\\phi}{2} \\right)}}{2} - \\frac{1}{2}\\right)$"
      ],
      "text/plain": [
       "n*(-cot(\\phi/2)**2/2 - 1/2)"
      ]
     },
     "execution_count": 6,
     "metadata": {},
     "output_type": "execute_result"
    }
   ],
   "source": [
    "#let's define the derivative of b with respect to phi\n",
    "db_dphi = smp.diff(b_expression, phi)\n",
    "db_dphi"
   ]
  },
  {
   "cell_type": "code",
   "execution_count": 10,
   "metadata": {},
   "outputs": [
    {
     "data": {
      "text/latex": [
       "$\\displaystyle - \\frac{1}{b_{inf} - b_{sup}}$"
      ],
      "text/plain": [
       "-1/(b_inf - b_sup)"
      ]
     },
     "execution_count": 10,
     "metadata": {},
     "output_type": "execute_result"
    }
   ],
   "source": [
    "#now let's define the pdf that b follows \n",
    "# b follows a uniform distribution, with mean 0 and extremes b_inf, b_sup\n",
    "\n",
    "pdf_b, b_inf, b_sup = smp.symbols('pdf(b), b_inf, b_sup ')\n",
    "\n",
    "#now lets define the expression of the pdf of b \n",
    "pdf_b_expression = 1/(b_sup-b_inf)\n",
    "pdf_b_expression"
   ]
  },
  {
   "cell_type": "code",
   "execution_count": 16,
   "metadata": {},
   "outputs": [
    {
     "data": {
      "text/latex": [
       "$\\displaystyle \\frac{n}{\\left(b_{inf} - b_{sup}\\right) \\left(\\cos{\\left(\\phi \\right)} - 1\\right)}$"
      ],
      "text/plain": [
       "n/((b_inf - b_sup)*(cos(\\phi) - 1))"
      ]
     },
     "execution_count": 16,
     "metadata": {},
     "output_type": "execute_result"
    }
   ],
   "source": [
    "#now let's find the pdf of phi\n",
    "pdf_phi = -pdf_b_expression*(db_dphi)\n",
    "pdf_phi.simplify()"
   ]
  },
  {
   "cell_type": "code",
   "execution_count": null,
   "metadata": {},
   "outputs": [],
   "source": [
    "# this is already normalized at one, look at the calculations about the extremes of the domain of definition \n",
    "# of pdf of phi, and then its easy to check on paper the result "
   ]
  }
 ],
 "metadata": {
  "kernelspec": {
   "display_name": "Python 3",
   "language": "python",
   "name": "python3"
  },
  "language_info": {
   "codemirror_mode": {
    "name": "ipython",
    "version": 3
   },
   "file_extension": ".py",
   "mimetype": "text/x-python",
   "name": "python",
   "nbconvert_exporter": "python",
   "pygments_lexer": "ipython3",
   "version": "3.10.12"
  }
 },
 "nbformat": 4,
 "nbformat_minor": 2
}
